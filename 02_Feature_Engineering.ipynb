{
 "cells": [
  {
   "cell_type": "markdown",
   "metadata": {},
   "source": [
    "# Featuring Engineering"
   ]
  },
  {
   "cell_type": "markdown",
   "metadata": {},
   "source": [
    "In this notebook, we continue the data preparation process by leveraging the preprocessed dataset, `feature_engineering.csv`. Our focus is on two key tasks:\n",
    "\n",
    "#### **Scaling and Encoding**\n",
    "- Numerical and categorical columns are scaled and encoded using techniques supported by external resources to ensure the data is model-ready.\n",
    "- The choice of scaling and encoding techniques was informed by best practices and references to maintain consistency and enhance model performance.\n",
    "\n",
    "#### **Creating New Features**\n",
    "- To further enrich the dataset, we identified and created potential interaction features. These new features aim to capture additional relationships and patterns in the data that could improve predictive power.\n",
    "- External resources were consulted to guide the identification and creation of interaction terms, ensuring they align with the dataset and project objectives.\n",
    "\n",
    "This notebook builds on the foundation established in the EDA, with a clear focus on enhancing the dataset for the next step: model training."
   ]
  },
  {
   "cell_type": "code",
   "execution_count": 1,
   "metadata": {},
   "outputs": [
    {
     "name": "stderr",
     "output_type": "stream",
     "text": [
      "c:\\Users\\alexi\\OneDrive\\Desktop\\Github\\Xtillion\\Xtillion_assessment\\project_Xtillion\\Lib\\site-packages\\tqdm\\auto.py:21: TqdmWarning: IProgress not found. Please update jupyter and ipywidgets. See https://ipywidgets.readthedocs.io/en/stable/user_install.html\n",
      "  from .autonotebook import tqdm as notebook_tqdm\n"
     ]
    },
    {
     "name": "stdout",
     "output_type": "stream",
     "text": [
      "All libraries loaded!\n"
     ]
    }
   ],
   "source": [
    "import pandas as pd\n",
    "import numpy as np\n",
    "from sklearn.preprocessing import OneHotEncoder, LabelEncoder\n",
    "from sklearn.preprocessing import MinMaxScaler, StandardScaler, RobustScaler\n",
    "import sweetviz as sv\n",
    "from sweetviz import FeatureConfig\n",
    "import matplotlib.pyplot as plt\n",
    "\n",
    "print(\"All libraries loaded!\")"
   ]
  },
  {
   "cell_type": "markdown",
   "metadata": {},
   "source": [
    "## Data Loading"
   ]
  },
  {
   "cell_type": "code",
   "execution_count": 2,
   "metadata": {},
   "outputs": [],
   "source": [
    "df = pd.read_csv(\"feature_engineering.csv\")"
   ]
  },
  {
   "cell_type": "code",
   "execution_count": 3,
   "metadata": {},
   "outputs": [
    {
     "data": {
      "text/plain": [
       "Index(['Age', 'Sex', 'Race', 'Education_Level', 'Income_Level',\n",
       "       'Marital_Status', 'Employment_Status', 'Number_of_Children', 'Weight',\n",
       "       'Height', 'Housing_Status', 'Smoking_Status', 'Alcohol_Consumption',\n",
       "       'Alcohol_Frequency', 'Exercise_Status', 'Sleep_Duration',\n",
       "       'Asthma_Status', 'General_Health', 'Physical_Health_Poor_Days',\n",
       "       'Mental_Health_Poor_Days', 'Difficulty_Walking', 'BMI_Category',\n",
       "       'Arthritis_Status', 'Coronary_Heart_Disease_Status', 'Stroke_Status',\n",
       "       'COPD_Status', 'Kidney_Disease_Status', 'Total_Physical_Inactivity',\n",
       "       'Depression_Status', 'Primary_Health_Insurance_Source',\n",
       "       'Has_Personal_Doctor', 'Could_Not_See_Doctor_Due_To_Cost',\n",
       "       'Last_Routine_Checkup', 'Tetanus_Shot_Status', 'Colonoscopy_Status',\n",
       "       'Mammogram_Status', 'Flu_Shot_Status', 'Last_Dental_Visit',\n",
       "       'Veteran_Status', 'Chronic_Condition'],\n",
       "      dtype='object')"
      ]
     },
     "execution_count": 3,
     "metadata": {},
     "output_type": "execute_result"
    }
   ],
   "source": [
    "df.columns"
   ]
  },
  {
   "cell_type": "code",
   "execution_count": 4,
   "metadata": {},
   "outputs": [],
   "source": [
    "df_test = pd.read_csv(\"Post_EDA_test.csv\")"
   ]
  },
  {
   "cell_type": "code",
   "execution_count": 5,
   "metadata": {},
   "outputs": [
    {
     "data": {
      "text/plain": [
       "Index(['Age', 'Sex', 'Race', 'Education_Level', 'Income_Level',\n",
       "       'Marital_Status', 'Employment_Status', 'Number_of_Children', 'Weight',\n",
       "       'Height', 'Housing_Status', 'Smoking_Status', 'Alcohol_Consumption',\n",
       "       'Alcohol_Frequency', 'Exercise_Status', 'Sleep_Duration',\n",
       "       'Asthma_Status', 'Pneumonia_Vaccination_Status', 'General_Health',\n",
       "       'Physical_Health_Poor_Days', 'Mental_Health_Poor_Days',\n",
       "       'Difficulty_Walking', 'BMI_Category', 'Arthritis_Status',\n",
       "       'Coronary_Heart_Disease_Status', 'Stroke_Status', 'COPD_Status',\n",
       "       'Kidney_Disease_Status', 'Caregiver_Major_Health_Problem',\n",
       "       'Total_Physical_Inactivity', 'Depression_Status',\n",
       "       'Primary_Health_Insurance_Source', 'Has_Personal_Doctor',\n",
       "       'Could_Not_See_Doctor_Due_To_Cost', 'Last_Routine_Checkup',\n",
       "       'Tetanus_Shot_Status', 'Colonoscopy_Status', 'Mammogram_Status',\n",
       "       'PSA_Test_Status', 'Flu_Shot_Status', 'Eye_Exam_Status',\n",
       "       'Last_Dental_Visit', 'Veteran_Status'],\n",
       "      dtype='object')"
      ]
     },
     "execution_count": 5,
     "metadata": {},
     "output_type": "execute_result"
    }
   ],
   "source": [
    "df_test.columns"
   ]
  },
  {
   "cell_type": "code",
   "execution_count": 6,
   "metadata": {},
   "outputs": [
    {
     "data": {
      "text/plain": [
       "(20915, 43)"
      ]
     },
     "execution_count": 6,
     "metadata": {},
     "output_type": "execute_result"
    }
   ],
   "source": [
    "df_test.shape"
   ]
  },
  {
   "cell_type": "markdown",
   "metadata": {},
   "source": [
    "## Encoding Categorical Variables"
   ]
  },
  {
   "cell_type": "markdown",
   "metadata": {},
   "source": [
    "#### **1. Label Encoding**\n",
    "- **Definition**: Label encoding converts categorical labels into integer representations, mapping each unique category to a corresponding integer.\n",
    "- **Use Case**: Best suited for ordinal data where the order of categories has significance (e.g., \"Low,\" \"Medium,\" \"High\").\n",
    "- **Citation**: [Label Encoding Guide - Scikit-learn](https://scikit-learn.org/stable/modules/generated/sklearn.preprocessing.LabelEncoder.html)\n",
    "\n",
    "#### **2. One-Hot Encoding**\n",
    "- **Definition**: One-hot encoding transforms categorical variables into binary vectors, creating a new column for each category and assigning a 1 or 0 based on category presence.\n",
    "- **Use Case**: Ideal for nominal data where categories have no intrinsic order (e.g., \"Red,\" \"Green,\" \"Blue\").\n",
    "- **Citation**: [One-Hot Encoding Guide - Scikit-learn](https://scikit-learn.org/stable/modules/generated/sklearn.preprocessing.OneHotEncoder.html)"
   ]
  },
  {
   "cell_type": "markdown",
   "metadata": {},
   "source": [
    "#### **Why Label Encoding was Used for General_Health, Has_Personal_Doctor, Last_Routine_Checkup, Last_Dental_Visit, Marital_Status, Education_Level, Physical_Health_Poor_Days, Mental_Health_Poor_Days, Employment_Status, Income_Level, BMI_Category, Smoking_Status**\n",
    "\n",
    "Label encoding was chosen for ordinal features, such as education level or income categories, because the encoded integers preserve the natural order of the categories. This ensures that the model understands the relative significance or ranking between categories while maintaining simplicity. Label encoding is particularly efficient for features with a clear ordinal structure without introducing unnecessary complexity."
   ]
  },
  {
   "cell_type": "code",
   "execution_count": 7,
   "metadata": {},
   "outputs": [],
   "source": [
    "# List of columns to apply label encoding for ordinal categorical features.\n",
    "label_encoding_columns = [\n",
    "    \"General_Health\", \"Has_Personal_Doctor\", \"Last_Routine_Checkup\",\n",
    "    \"Last_Dental_Visit\", \"Marital_Status\", \"Education_Level\", \n",
    "    \"Physical_Health_Poor_Days\", \"Mental_Health_Poor_Days\", \"Employment_Status\",\n",
    "    \"Income_Level\", \"BMI_Category\", \"Smoking_Status\"\n",
    "]"
   ]
  },
  {
   "cell_type": "code",
   "execution_count": 8,
   "metadata": {},
   "outputs": [],
   "source": [
    "# Initialize a LabelEncoder instance to encode ordinal categorical features into numeric labels.\n",
    "label_encoder = LabelEncoder()"
   ]
  },
  {
   "cell_type": "code",
   "execution_count": 9,
   "metadata": {},
   "outputs": [],
   "source": [
    "label_encoders = {}"
   ]
  },
  {
   "cell_type": "code",
   "execution_count": 10,
   "metadata": {},
   "outputs": [],
   "source": [
    "# Apply label encoding to each column in the training data\n",
    "for col in label_encoding_columns:\n",
    "    label_encoders[col] = LabelEncoder()\n",
    "    df[col] = label_encoders[col].fit_transform(df[col])\n"
   ]
  },
  {
   "cell_type": "code",
   "execution_count": 11,
   "metadata": {},
   "outputs": [],
   "source": [
    "# Apply the same encoding to the test data using the trained label encoders\n",
    "for col in label_encoding_columns:\n",
    "    df_test[col] = label_encoders[col].transform(df_test[col])"
   ]
  },
  {
   "cell_type": "markdown",
   "metadata": {},
   "source": [
    "#### **Why One-Hot Encoding was Used for Primary_Health_Insurance_Source, Housing_Status, Veteran_Status, Mammogram_Status, Flu_Shot_Status, Tetanus_Shot_Status, Difficulty_Walking, Race, Sex, Coronary_Heart_Disease_Status, Asthma_Status**\n",
    "\n",
    "One-hot encoding was selected for nominal categorical features, such as \"Race\" or \"Sex,\" because these features do not have a natural order. This method creates binary columns for each category, ensuring that the model does not infer incorrect ordinal relationships between categories. One-hot encoding is particularly effective for nominal data, allowing the model to treat each category independently and equitably, improving interpretability and performance.\n"
   ]
  },
  {
   "cell_type": "code",
   "execution_count": 12,
   "metadata": {},
   "outputs": [],
   "source": [
    "# List of columns to apply hot one encoding for nominal categorical features.\n",
    "one_hot_encoding_columns = [\n",
    "    \"Primary_Health_Insurance_Source\", \"Housing_Status\", \"Veteran_Status\",\n",
    "    \"Mammogram_Status\", \"Flu_Shot_Status\", \"Tetanus_Shot_Status\",\n",
    "    \"Difficulty_Walking\", \"Race\", \"Sex\", \"Coronary_Heart_Disease_Status\", \"Asthma_Status\", \n",
    "]\n",
    "\n",
    "# One-Hot Encoding\n",
    "df = pd.get_dummies(df, columns=one_hot_encoding_columns, drop_first=True)"
   ]
  },
  {
   "cell_type": "code",
   "execution_count": 13,
   "metadata": {},
   "outputs": [],
   "source": [
    "# Get the final list of columns after encoding df\n",
    "encoded_columns = df.columns"
   ]
  },
  {
   "cell_type": "code",
   "execution_count": 14,
   "metadata": {},
   "outputs": [],
   "source": [
    "# One-Hot Encoding for the test data\n",
    "df_test = pd.get_dummies(df_test, columns=one_hot_encoding_columns, drop_first=True)"
   ]
  },
  {
   "cell_type": "code",
   "execution_count": 15,
   "metadata": {},
   "outputs": [],
   "source": [
    "# Add missing columns in df_test that exist in df\n",
    "missing_columns = set(encoded_columns) - set(df_test.columns)\n",
    "for col in missing_columns:\n",
    "    df_test[col] = 0"
   ]
  },
  {
   "cell_type": "code",
   "execution_count": 16,
   "metadata": {},
   "outputs": [],
   "source": [
    "# Ensure column order matches between df and df_test\n",
    "df_test = df_test[encoded_columns]"
   ]
  },
  {
   "cell_type": "code",
   "execution_count": 17,
   "metadata": {},
   "outputs": [
    {
     "data": {
      "text/plain": [
       "Index(['Age', 'Education_Level', 'Income_Level', 'Marital_Status',\n",
       "       'Employment_Status', 'Number_of_Children', 'Weight', 'Height',\n",
       "       'Smoking_Status', 'Alcohol_Consumption', 'Alcohol_Frequency',\n",
       "       'Exercise_Status', 'Sleep_Duration', 'General_Health',\n",
       "       'Physical_Health_Poor_Days', 'Mental_Health_Poor_Days', 'BMI_Category',\n",
       "       'Arthritis_Status', 'Stroke_Status', 'COPD_Status',\n",
       "       'Kidney_Disease_Status', 'Total_Physical_Inactivity',\n",
       "       'Depression_Status', 'Has_Personal_Doctor',\n",
       "       'Could_Not_See_Doctor_Due_To_Cost', 'Last_Routine_Checkup',\n",
       "       'Colonoscopy_Status', 'Last_Dental_Visit', 'Chronic_Condition',\n",
       "       'Primary_Health_Insurance_Source_2.0',\n",
       "       'Primary_Health_Insurance_Source_3.0',\n",
       "       'Primary_Health_Insurance_Source_4.0',\n",
       "       'Primary_Health_Insurance_Source_5.0',\n",
       "       'Primary_Health_Insurance_Source_6.0',\n",
       "       'Primary_Health_Insurance_Source_7.0',\n",
       "       'Primary_Health_Insurance_Source_8.0',\n",
       "       'Primary_Health_Insurance_Source_9.0',\n",
       "       'Primary_Health_Insurance_Source_10.0',\n",
       "       'Primary_Health_Insurance_Source_77.0',\n",
       "       'Primary_Health_Insurance_Source_88.0',\n",
       "       'Primary_Health_Insurance_Source_99.0', 'Housing_Status_2.0',\n",
       "       'Housing_Status_3.0', 'Housing_Status_7.0', 'Housing_Status_9.0',\n",
       "       'Veteran_Status_2.0', 'Veteran_Status_7.0', 'Veteran_Status_9.0',\n",
       "       'Mammogram_Status_2.0', 'Mammogram_Status_7.0', 'Mammogram_Status_9.0',\n",
       "       'Mammogram_Status_99.0', 'Flu_Shot_Status_2.0', 'Flu_Shot_Status_7.0',\n",
       "       'Flu_Shot_Status_9.0', 'Tetanus_Shot_Status_2.0',\n",
       "       'Tetanus_Shot_Status_3.0', 'Tetanus_Shot_Status_4.0',\n",
       "       'Tetanus_Shot_Status_7.0', 'Tetanus_Shot_Status_9.0',\n",
       "       'Difficulty_Walking_2.0', 'Difficulty_Walking_7.0',\n",
       "       'Difficulty_Walking_9.0', 'Race_2', 'Race_3', 'Race_4', 'Race_5',\n",
       "       'Race_6', 'Race_7', 'Sex_2', 'Coronary_Heart_Disease_Status_2.0',\n",
       "       'Asthma_Status_2', 'Asthma_Status_3', 'Asthma_Status_9'],\n",
       "      dtype='object')"
      ]
     },
     "execution_count": 17,
     "metadata": {},
     "output_type": "execute_result"
    }
   ],
   "source": [
    "df_test.columns"
   ]
  },
  {
   "cell_type": "markdown",
   "metadata": {},
   "source": [
    "## Encoding the Target Variable - Chronic_Condition\n",
    "\n",
    "#### **Why Label Encoding was Used for the Target Variable 'Chronic_Condition'**\n",
    "\n",
    "Label encoding was chosen for the target variable 'Chronic_Condition' because it converts categorical classes into numerical labels, a format required by most machine learning algorithms. This approach ensures that the model can interpret the target values effectively without introducing unnecessary complexity. Additionally, label encoding is particularly suitable for the target variable as it maintains the integrity of the class distinctions without implying any ordinal relationship between the categories."
   ]
  },
  {
   "cell_type": "code",
   "execution_count": 18,
   "metadata": {},
   "outputs": [],
   "source": [
    "# Apply label encoding to the target variable 'Chronic_Condition'.\n",
    "# This step transforms the categorical classes (e.g., 'Yes', 'No') into numerical labels (e.g., 0, 1, 2),\n",
    "# making the target variable suitable for machine learning algorithms that require numerical input.\n",
    "df['Chronic_Condition'] = label_encoder.fit_transform(df['Chronic_Condition'])"
   ]
  },
  {
   "cell_type": "code",
   "execution_count": 19,
   "metadata": {},
   "outputs": [],
   "source": [
    "# Create a mapping of the original class labels to their corresponding encoded numerical values.\n",
    "# This dictionary helps to interpret the label-encoded target variable, allowing for clarity when analyzing model predictions.\n",
    "target_mapping = dict(zip(label_encoder.classes_, label_encoder.transform(label_encoder.classes_)))"
   ]
  },
  {
   "cell_type": "code",
   "execution_count": 20,
   "metadata": {},
   "outputs": [],
   "source": [
    "# Define a feature configuration to explicitly treat the target variable 'Chronic_Condition' as a numerical feature.\n",
    "# This is necessary for certain libraries or tools (e.g., Sweetviz) that may not automatically recognize it as numeric.\n",
    "feature_config = FeatureConfig(force_num=['Chronic_Condition'])"
   ]
  },
  {
   "cell_type": "markdown",
   "metadata": {},
   "source": [
    "## Scaling Numerical Features"
   ]
  },
  {
   "cell_type": "markdown",
   "metadata": {},
   "source": [
    "#### **1. MinMaxScaler**\n",
    "- **Definition**: MinMaxScaler scales features to a fixed range, typically [0, 1], by transforming data linearly based on the feature’s minimum and maximum values.\n",
    "- **Use Case**: Ideal for datasets where the distribution of features is not Gaussian or when a fixed range is required (e.g., neural networks).\n",
    "- **Citation**: [MinMaxScaler Documentation](https://scikit-learn.org/stable/modules/generated/sklearn.preprocessing.MinMaxScaler.html)\n",
    "\n",
    "#### **2. RobustScaler**\n",
    "- **Definition**: RobustScaler scales features by removing the median and scaling according to the interquartile range (IQR), making it robust to outliers.\n",
    "- **Use Case**: Suitable for datasets with significant outliers that could distort other scaling methods (e.g., datasets with heavy-tailed distributions).\n",
    "- **Citation**: [RobustScaler Documentation](https://scikit-learn.org/stable/modules/generated/sklearn.preprocessing.RobustScaler.html)"
   ]
  },
  {
   "cell_type": "code",
   "execution_count": 21,
   "metadata": {},
   "outputs": [],
   "source": [
    "# Define a dictionary of scalers for different scaling techniques\n",
    "scalers = {\n",
    "    \"MinMaxScaler\" : MinMaxScaler(),      # Scales features to a fixed range, typically [0, 1]\n",
    "    \"RobustScaler\" : RobustScaler()       # Scales features using the median and IQR, making it robust to outliers\n",
    "}"
   ]
  },
  {
   "cell_type": "markdown",
   "metadata": {},
   "source": [
    "### Why RobustScaler was Used for Height and Weight\n",
    "\n",
    "The **RobustScaler** was chosen for the Height and Weight columns because these features have extreme outliers that could distort scaling. Unlike other scalers, RobustScaler scales the data based on the median and interquartile range, making it resilient to the influence of outliers. This ensures that the scaled values accurately reflect the majority of the data distribution while minimizing the impact of outliers.\n"
   ]
  },
  {
   "cell_type": "code",
   "execution_count": 22,
   "metadata": {},
   "outputs": [],
   "source": [
    "scalers[\"RobustScaler\"] = scalers[\"RobustScaler\"].fit(df[[\"Weight\", \"Height\"]])"
   ]
  },
  {
   "cell_type": "code",
   "execution_count": 23,
   "metadata": {},
   "outputs": [],
   "source": [
    "# Scale the \"Weight\" and \"Height\" columns using RobustScaler (robust to outliers)\n",
    "df[\"Weight\"] = scalers[\"RobustScaler\"].fit_transform(df[[\"Weight\"]])\n",
    "df[\"Height\"] = scalers[\"RobustScaler\"].fit_transform(df[[\"Height\"]])"
   ]
  },
  {
   "cell_type": "code",
   "execution_count": 24,
   "metadata": {},
   "outputs": [
    {
     "name": "stderr",
     "output_type": "stream",
     "text": [
      "c:\\Users\\alexi\\OneDrive\\Desktop\\Github\\Xtillion\\Xtillion_assessment\\project_Xtillion\\Lib\\site-packages\\sklearn\\base.py:493: UserWarning: X does not have valid feature names, but RobustScaler was fitted with feature names\n",
      "  warnings.warn(\n",
      "c:\\Users\\alexi\\OneDrive\\Desktop\\Github\\Xtillion\\Xtillion_assessment\\project_Xtillion\\Lib\\site-packages\\sklearn\\base.py:493: UserWarning: X does not have valid feature names, but RobustScaler was fitted with feature names\n",
      "  warnings.warn(\n"
     ]
    }
   ],
   "source": [
    "# Let's ensure its properly fomratted as a 2D array before scaling these features on the test df\n",
    "df_test[\"Weight\"] = scalers[\"RobustScaler\"].transform(df_test[[\"Weight\"]].values)\n",
    "df_test[\"Height\"] = scalers[\"RobustScaler\"].transform(df_test[[\"Height\"]].values)"
   ]
  },
  {
   "cell_type": "markdown",
   "metadata": {},
   "source": [
    "### Why MinMaxScaler Was Used for Age, Sleep Duration, Primary Health Insurance Source, Number of Children, and Income Level\n",
    "\n",
    "The MinMaxScaler was chosen because it scales features to a fixed range (e.g., 0 to 1), preserving their relationships and bounded distributions. These columns, with naturally limited ranges and no significant outliers, align well with this scaler, ensuring proportionality and consistency for model inputs. This method is particularly suitable for algorithms sensitive to feature magnitudes, such as logistic regression."
   ]
  },
  {
   "cell_type": "code",
   "execution_count": 26,
   "metadata": {},
   "outputs": [],
   "source": [
    "scalers[\"MinMaxScaler\"] = scalers[\"MinMaxScaler\"].fit(df[[\"Income_Level\", \"Number_of_Children\",  \n",
    "                                                          \"Sleep_Duration\", \"Age\"]])"
   ]
  },
  {
   "cell_type": "code",
   "execution_count": 27,
   "metadata": {},
   "outputs": [],
   "source": [
    "# Scale the \"Income_Level\" column using MinMaxScaler to normalize values between 0 and 1.\n",
    "df[\"Income_Level\"] = scalers[\"MinMaxScaler\"].fit_transform(df[[\"Income_Level\"]])\n",
    "# Scale the \"Number_of_Children\" column using MinMaxScaler to handle non-negative values consistently.\n",
    "df[\"Number_of_Children\"] = scalers[\"MinMaxScaler\"].fit_transform(df[[\"Number_of_Children\"]])\n",
    "# Scale the \"Sleep_Duration\" column using MinMaxScaler, as it is non-negative and does not contain outliers.\n",
    "df[\"Sleep_Duration\"] = scalers[\"MinMaxScaler\"].fit_transform(df[[\"Sleep_Duration\"]])\n",
    "# Scale the \"Age\" column using MinMaxScaler to normalize it to the range [0, 1], which is suitable for the model.\n",
    "df[\"Age\"] = scalers[\"MinMaxScaler\"].fit_transform(df[[\"Age\"]])"
   ]
  },
  {
   "cell_type": "code",
   "execution_count": 28,
   "metadata": {},
   "outputs": [
    {
     "name": "stderr",
     "output_type": "stream",
     "text": [
      "c:\\Users\\alexi\\OneDrive\\Desktop\\Github\\Xtillion\\Xtillion_assessment\\project_Xtillion\\Lib\\site-packages\\sklearn\\base.py:493: UserWarning: X does not have valid feature names, but MinMaxScaler was fitted with feature names\n",
      "  warnings.warn(\n",
      "c:\\Users\\alexi\\OneDrive\\Desktop\\Github\\Xtillion\\Xtillion_assessment\\project_Xtillion\\Lib\\site-packages\\sklearn\\base.py:493: UserWarning: X does not have valid feature names, but MinMaxScaler was fitted with feature names\n",
      "  warnings.warn(\n",
      "c:\\Users\\alexi\\OneDrive\\Desktop\\Github\\Xtillion\\Xtillion_assessment\\project_Xtillion\\Lib\\site-packages\\sklearn\\base.py:493: UserWarning: X does not have valid feature names, but MinMaxScaler was fitted with feature names\n",
      "  warnings.warn(\n",
      "c:\\Users\\alexi\\OneDrive\\Desktop\\Github\\Xtillion\\Xtillion_assessment\\project_Xtillion\\Lib\\site-packages\\sklearn\\base.py:493: UserWarning: X does not have valid feature names, but MinMaxScaler was fitted with feature names\n",
      "  warnings.warn(\n"
     ]
    }
   ],
   "source": [
    "# Scale the \"Income_Level\" column in df_test\n",
    "df_test[\"Income_Level\"] = scalers[\"MinMaxScaler\"].transform(df_test[[\"Income_Level\"]].values)\n",
    "# Scale the \"Number_of_Children\" column in df_test\n",
    "df_test[\"Number_of_Children\"] = scalers[\"MinMaxScaler\"].transform(df_test[[\"Number_of_Children\"]].values)\n",
    "# Scale the \"Sleep_Duration\" column in df_test\n",
    "df_test[\"Sleep_Duration\"] = scalers[\"MinMaxScaler\"].transform(df_test[[\"Sleep_Duration\"]].values)\n",
    "# Scale the \"Age\" column in df_test\n",
    "df_test[\"Age\"] = scalers[\"MinMaxScaler\"].transform(df_test[[\"Age\"]].values)"
   ]
  },
  {
   "cell_type": "markdown",
   "metadata": {},
   "source": [
    "### Why Log Transformation and MinMaxScaler Were Used for Alcohol_Frequency\n",
    "\n",
    "The np.log1p function was applied to the Alcohol_Frequency column to reduce the impact of skewness caused by extreme values or highly uneven distributions. Log transformation compresses the range of larger values while maintaining smaller values, creating a more normalized distribution suitable for scaling."
   ]
  },
  {
   "cell_type": "code",
   "execution_count": 29,
   "metadata": {},
   "outputs": [],
   "source": [
    "# Fit the MinMaxScaler on the log-transformed Alcohol_Frequency column in the training data\n",
    "scalers[\"MinMaxScaler\"] = scalers[\"MinMaxScaler\"].fit(np.log1p(df[[\"Alcohol_Frequency\"]]))"
   ]
  },
  {
   "cell_type": "code",
   "execution_count": 30,
   "metadata": {},
   "outputs": [],
   "source": [
    "# Apply MinMaxScaler to the logarithmic transformation of \"Alcohol_Frequency\" to reduce skewness and scale the feature.\n",
    "df[\"Alcohol_Frequency\"] = scalers[\"MinMaxScaler\"].fit_transform(np.log1p(df[[\"Alcohol_Frequency\"]]))"
   ]
  },
  {
   "cell_type": "code",
   "execution_count": 31,
   "metadata": {},
   "outputs": [],
   "source": [
    "# Transform the test data using the already fitted scaler\n",
    "df_test[\"Alcohol_Frequency\"] = scalers[\"MinMaxScaler\"].transform(np.log1p(df_test[[\"Alcohol_Frequency\"]]))"
   ]
  },
  {
   "cell_type": "markdown",
   "metadata": {},
   "source": [
    "### Target Variable Sweetviz Report"
   ]
  },
  {
   "cell_type": "code",
   "execution_count": null,
   "metadata": {},
   "outputs": [],
   "source": [
    "sweetviz_report = sv.analyze(df, target_feat='Chronic_Condition', feat_cfg=feature_config)"
   ]
  },
  {
   "cell_type": "code",
   "execution_count": null,
   "metadata": {},
   "outputs": [],
   "source": [
    "sweetviz_report.show_html(\"Sweetviz_Target_Report.html\")"
   ]
  },
  {
   "cell_type": "markdown",
   "metadata": {},
   "source": [
    "### Creating Interaction Terms"
   ]
  },
  {
   "cell_type": "markdown",
   "metadata": {},
   "source": [
    "Creating interaction terms is a powerful feature engineering technique that allows us to uncover relationships between features that might not be evident in their individual forms. By combining features, we can capture complex patterns and dependencies in the data, ultimately enhancing model performance and predictive accuracy. Studies highlight that interaction terms can improve model interpretability and are particularly valuable in addressing non-linear relationships between variables. \n",
    "\n",
    "**Citation**: [Feature Engineering and Interaction Terms - Towards Data Science](https://towardsdatascience.com/feature-engineering-for-machine-learning-3a5e293a5114)\n"
   ]
  },
  {
   "cell_type": "markdown",
   "metadata": {},
   "source": [
    "The creation of interaction terms was guided by insights obtained from the Sweetviz report, which highlighted significant associations between features and the target variable, `Chronic_Condition`. For instance, `General_Health`, `Difficulty_Walking_2.0`, and `Employment_Status` showed moderate correlations with the target variable, suggesting their potential combined influence on chronic conditions. Similarly, numerical features like `Age` and `Alcohol_Frequency` were moderately associated with `Chronic_Condition`, motivating the creation of interactions such as `Age_General_Health` to capture nuanced relationships. \n",
    "\n",
    "These interaction terms aim to enhance the dataset's predictive power by capturing complex, non-linear relationships between variables, thereby aligning with the project’s objective to improve chronic disease detection and cost reduction strategies. By integrating information from both numerical and categorical features, we ensure a comprehensive representation of the behavioral and systemic factors influencing chronic health outcomes."
   ]
  },
  {
   "cell_type": "code",
   "execution_count": 32,
   "metadata": {},
   "outputs": [],
   "source": [
    "# Create a \"Health Risk Index\" as a weighted combination of BMI_Category, Alcohol_Frequency, and Exercise_Status.\n",
    "# The weights (0.4, 0.3, 0.3) represent the relative importance of each feature in assessing health risk.\n",
    "# This feature aims to capture an individual's overall health risk based on lifestyle factors.\n",
    "df[\"Health_Risk_index\"] = (df[\"BMI_Category\"] * 0.4) + (df[\"Alcohol_Frequency\"] * 0.3) + (df[\"Exercise_Status\"] * 0.3)\n",
    "df_test[\"Health_Risk_index\"] = (df_test[\"BMI_Category\"] * 0.4) + (df_test[\"Alcohol_Frequency\"] * 0.3) + (df_test[\"Exercise_Status\"] * 0.3)"
   ]
  },
  {
   "cell_type": "code",
   "execution_count": 33,
   "metadata": {},
   "outputs": [],
   "source": [
    "# Define a list of columns related to comorbidities (e.g., Arthritis, Stroke, COPD).\n",
    "# These features represent the presence or absence of various chronic diseases.\n",
    "comorbidity_columns = [\n",
    "    'Arthritis_Status', 'Stroke_Status', 'COPD_Status',\n",
    "    'Kidney_Disease_Status', 'Depression_Status',\n",
    "    'Coronary_Heart_Disease_Status_2.0', 'Asthma_Status_2',\n",
    "    'Asthma_Status_3', 'Asthma_Status_9'\n",
    "]"
   ]
  },
  {
   "cell_type": "code",
   "execution_count": 34,
   "metadata": {},
   "outputs": [],
   "source": [
    "# Calculate a \"Comorbidity Score\" by summing the values across all comorbidity-related columns.\n",
    "# This score reflects the total number of comorbid conditions an individual has, providing a measure of overall disease burden.\n",
    "df['Comorbidity_Score'] = df[comorbidity_columns].sum(axis=1)\n",
    "df_test['Comorbidity_Score'] = df_test[comorbidity_columns].sum(axis=1)"
   ]
  },
  {
   "cell_type": "code",
   "execution_count": 35,
   "metadata": {},
   "outputs": [],
   "source": [
    "# Define a list of columns related to preventive health behaviors (e.g., Colonoscopy, Mammogram, Flu Shot, Tetanus Shot).\n",
    "# These features represent the individual's engagement in preventive care activities.\n",
    "preventive_behavior_columns = [\n",
    "    'Colonoscopy_Status', 'Mammogram_Status_2.0', 'Mammogram_Status_7.0',\n",
    "    'Mammogram_Status_9.0', 'Mammogram_Status_99.0', 'Flu_Shot_Status_2.0',\n",
    "    'Flu_Shot_Status_7.0', 'Flu_Shot_Status_9.0', 'Tetanus_Shot_Status_2.0',\n",
    "    'Tetanus_Shot_Status_3.0', 'Tetanus_Shot_Status_4.0',\n",
    "    'Tetanus_Shot_Status_7.0', 'Tetanus_Shot_Status_9.0'\n",
    "]"
   ]
  },
  {
   "cell_type": "code",
   "execution_count": 36,
   "metadata": {},
   "outputs": [],
   "source": [
    "# Calculate a \"Preventive Behavior Index\" by summing the values across all preventive behavior-related columns.\n",
    "# This index measures an individual's level of engagement in preventive care activities, which may influence health outcomes.\n",
    "df['Preventive_Behavior_Index'] = df[preventive_behavior_columns].sum(axis=1)\n",
    "df_test['Preventive_Behavior_Index'] = df_test[preventive_behavior_columns].sum(axis=1)"
   ]
  },
  {
   "cell_type": "code",
   "execution_count": 37,
   "metadata": {},
   "outputs": [],
   "source": [
    "# Create an interaction term between Alcohol Consumption and Smoking Status.\n",
    "# This feature captures the combined effect of these two lifestyle factors on health outcomes.\n",
    "df['Alcohol_Smoking_Interaction'] = df['Alcohol_Consumption'] * df['Smoking_Status']\n",
    "df_test['Alcohol_Smoking_Interaction'] = df_test['Alcohol_Consumption'] * df_test['Smoking_Status']"
   ]
  },
  {
   "cell_type": "code",
   "execution_count": 38,
   "metadata": {},
   "outputs": [],
   "source": [
    "# Create an interaction term between BMI Category and Total Physical Inactivity.\n",
    "# This feature reflects the relationship between an individual's body mass index and their level of physical inactivity.\n",
    "df['BMI_Physical_Inactivity'] = df['BMI_Category'] * df['Total_Physical_Inactivity']\n",
    "df_test['BMI_Physical_Inactivity'] = df_test['BMI_Category'] * df_test['Total_Physical_Inactivity']"
   ]
  },
  {
   "cell_type": "code",
   "execution_count": 40,
   "metadata": {},
   "outputs": [],
   "source": [
    "# Create an interaction term between Preventive Behavior Index and Comorbidity Score.\n",
    "# This feature measures how an individual's engagement in preventive behaviors interacts with their total disease burden.\n",
    "df['Preventive_Comorbidity_Interaction'] = df['Preventive_Behavior_Index'] * df['Comorbidity_Score']\n",
    "df_test['Preventive_Comorbidity_Interaction'] = df_test['Preventive_Behavior_Index'] * df_test['Comorbidity_Score']"
   ]
  },
  {
   "cell_type": "code",
   "execution_count": 39,
   "metadata": {},
   "outputs": [],
   "source": [
    "# Create a Housing-Chronic Interaction feature by summing specific housing-related status columns.\n",
    "# This feature represents how various housing statuses might contribute to chronic condition risk factors.\n",
    "df['Housing_Chronic_Interaction'] = df['Housing_Status_2.0'] + df['Housing_Status_3.0'] + df['Housing_Status_7.0']\n",
    "df_test['Housing_Chronic_Interaction'] = df['Housing_Status_2.0'] + df_test['Housing_Status_3.0'] + df_test['Housing_Status_7.0']"
   ]
  },
  {
   "cell_type": "code",
   "execution_count": 41,
   "metadata": {},
   "outputs": [],
   "source": [
    "# Create an interaction term between Income Level and Employment Status.\n",
    "# This feature reflects the relationship between an individual's income and employment status, which may influence health access and outcomes.\n",
    "df['Income_Employment'] = df['Income_Level'] * df['Employment_Status']\n",
    "df_test['Income_Employment'] = df_test['Income_Level'] * df_test['Employment_Status']"
   ]
  },
  {
   "cell_type": "code",
   "execution_count": 42,
   "metadata": {},
   "outputs": [],
   "source": [
    "# Create an interaction term between Age and General Health.\n",
    "# This feature captures how an individual's age interacts with their self-assessed general health status.\n",
    "df['Age_General_Health'] = df['Age'] * df['General_Health']\n",
    "df_test['Age_General_Health'] = df_test['Age'] * df_test['General_Health']"
   ]
  },
  {
   "cell_type": "code",
   "execution_count": 43,
   "metadata": {},
   "outputs": [],
   "source": [
    "# Create a Race-Chronic Condition feature by summing specific race-related columns.\n",
    "# This feature aggregates racial factors that may be associated with chronic disease risks.\n",
    "df['Race_Chronic_Condition'] = df['Race_2'] + df['Race_3'] + df['Race_4']\n",
    "df_test['Race_Chronic_Condition'] = df_test['Race_2'] + df_test['Race_3'] + df_test['Race_4']"
   ]
  },
  {
   "cell_type": "code",
   "execution_count": 44,
   "metadata": {},
   "outputs": [],
   "source": [
    "# Create an interaction term between Sex and Preventive Behavior Index.\n",
    "# This feature reflects how gender interacts with an individual's engagement in preventive care behaviors.\n",
    "df['Sex_Preventive_Behavior'] = df['Sex_2'] * df['Preventive_Behavior_Index']\n",
    "df_test['Sex_Preventive_Behavior'] = df_test['Sex_2'] * df_test['Preventive_Behavior_Index']"
   ]
  },
  {
   "cell_type": "code",
   "execution_count": 45,
   "metadata": {},
   "outputs": [
    {
     "name": "stdout",
     "output_type": "stream",
     "text": [
      "Index(['Age', 'Education_Level', 'Income_Level', 'Marital_Status',\n",
      "       'Employment_Status', 'Number_of_Children', 'Weight', 'Height',\n",
      "       'Smoking_Status', 'Alcohol_Consumption', 'Alcohol_Frequency',\n",
      "       'Exercise_Status', 'Sleep_Duration', 'General_Health',\n",
      "       'Physical_Health_Poor_Days', 'Mental_Health_Poor_Days', 'BMI_Category',\n",
      "       'Arthritis_Status', 'Stroke_Status', 'COPD_Status',\n",
      "       'Kidney_Disease_Status', 'Total_Physical_Inactivity',\n",
      "       'Depression_Status', 'Has_Personal_Doctor',\n",
      "       'Could_Not_See_Doctor_Due_To_Cost', 'Last_Routine_Checkup',\n",
      "       'Colonoscopy_Status', 'Last_Dental_Visit', 'Chronic_Condition',\n",
      "       'Primary_Health_Insurance_Source_2.0',\n",
      "       'Primary_Health_Insurance_Source_3.0',\n",
      "       'Primary_Health_Insurance_Source_4.0',\n",
      "       'Primary_Health_Insurance_Source_5.0',\n",
      "       'Primary_Health_Insurance_Source_6.0',\n",
      "       'Primary_Health_Insurance_Source_7.0',\n",
      "       'Primary_Health_Insurance_Source_8.0',\n",
      "       'Primary_Health_Insurance_Source_9.0',\n",
      "       'Primary_Health_Insurance_Source_10.0',\n",
      "       'Primary_Health_Insurance_Source_77.0',\n",
      "       'Primary_Health_Insurance_Source_88.0',\n",
      "       'Primary_Health_Insurance_Source_99.0', 'Housing_Status_2.0',\n",
      "       'Housing_Status_3.0', 'Housing_Status_7.0', 'Housing_Status_9.0',\n",
      "       'Veteran_Status_2.0', 'Veteran_Status_7.0', 'Veteran_Status_9.0',\n",
      "       'Mammogram_Status_2.0', 'Mammogram_Status_7.0', 'Mammogram_Status_9.0',\n",
      "       'Mammogram_Status_99.0', 'Flu_Shot_Status_2.0', 'Flu_Shot_Status_7.0',\n",
      "       'Flu_Shot_Status_9.0', 'Tetanus_Shot_Status_2.0',\n",
      "       'Tetanus_Shot_Status_3.0', 'Tetanus_Shot_Status_4.0',\n",
      "       'Tetanus_Shot_Status_7.0', 'Tetanus_Shot_Status_9.0',\n",
      "       'Difficulty_Walking_2.0', 'Difficulty_Walking_7.0',\n",
      "       'Difficulty_Walking_9.0', 'Race_2', 'Race_3', 'Race_4', 'Race_5',\n",
      "       'Race_6', 'Race_7', 'Sex_2', 'Coronary_Heart_Disease_Status_2.0',\n",
      "       'Asthma_Status_2', 'Asthma_Status_3', 'Asthma_Status_9',\n",
      "       'Health_Risk_index', 'Comorbidity_Score', 'Preventive_Behavior_Index',\n",
      "       'Alcohol_Smoking_Interaction', 'BMI_Physical_Inactivity',\n",
      "       'Housing_Chronic_Interaction', 'Preventive_Comorbidity_Interaction',\n",
      "       'Income_Employment', 'Age_General_Health', 'Race_Chronic_Condition',\n",
      "       'Sex_Preventive_Behavior'],\n",
      "      dtype='object')\n"
     ]
    }
   ],
   "source": [
    "print(df.columns)"
   ]
  },
  {
   "cell_type": "code",
   "execution_count": 46,
   "metadata": {},
   "outputs": [
    {
     "name": "stdout",
     "output_type": "stream",
     "text": [
      "Index(['Age', 'Education_Level', 'Income_Level', 'Marital_Status',\n",
      "       'Employment_Status', 'Number_of_Children', 'Weight', 'Height',\n",
      "       'Smoking_Status', 'Alcohol_Consumption', 'Alcohol_Frequency',\n",
      "       'Exercise_Status', 'Sleep_Duration', 'General_Health',\n",
      "       'Physical_Health_Poor_Days', 'Mental_Health_Poor_Days', 'BMI_Category',\n",
      "       'Arthritis_Status', 'Stroke_Status', 'COPD_Status',\n",
      "       'Kidney_Disease_Status', 'Total_Physical_Inactivity',\n",
      "       'Depression_Status', 'Has_Personal_Doctor',\n",
      "       'Could_Not_See_Doctor_Due_To_Cost', 'Last_Routine_Checkup',\n",
      "       'Colonoscopy_Status', 'Last_Dental_Visit', 'Chronic_Condition',\n",
      "       'Primary_Health_Insurance_Source_2.0',\n",
      "       'Primary_Health_Insurance_Source_3.0',\n",
      "       'Primary_Health_Insurance_Source_4.0',\n",
      "       'Primary_Health_Insurance_Source_5.0',\n",
      "       'Primary_Health_Insurance_Source_6.0',\n",
      "       'Primary_Health_Insurance_Source_7.0',\n",
      "       'Primary_Health_Insurance_Source_8.0',\n",
      "       'Primary_Health_Insurance_Source_9.0',\n",
      "       'Primary_Health_Insurance_Source_10.0',\n",
      "       'Primary_Health_Insurance_Source_77.0',\n",
      "       'Primary_Health_Insurance_Source_88.0',\n",
      "       'Primary_Health_Insurance_Source_99.0', 'Housing_Status_2.0',\n",
      "       'Housing_Status_3.0', 'Housing_Status_7.0', 'Housing_Status_9.0',\n",
      "       'Veteran_Status_2.0', 'Veteran_Status_7.0', 'Veteran_Status_9.0',\n",
      "       'Mammogram_Status_2.0', 'Mammogram_Status_7.0', 'Mammogram_Status_9.0',\n",
      "       'Mammogram_Status_99.0', 'Flu_Shot_Status_2.0', 'Flu_Shot_Status_7.0',\n",
      "       'Flu_Shot_Status_9.0', 'Tetanus_Shot_Status_2.0',\n",
      "       'Tetanus_Shot_Status_3.0', 'Tetanus_Shot_Status_4.0',\n",
      "       'Tetanus_Shot_Status_7.0', 'Tetanus_Shot_Status_9.0',\n",
      "       'Difficulty_Walking_2.0', 'Difficulty_Walking_7.0',\n",
      "       'Difficulty_Walking_9.0', 'Race_2', 'Race_3', 'Race_4', 'Race_5',\n",
      "       'Race_6', 'Race_7', 'Sex_2', 'Coronary_Heart_Disease_Status_2.0',\n",
      "       'Asthma_Status_2', 'Asthma_Status_3', 'Asthma_Status_9',\n",
      "       'Health_Risk_index', 'Comorbidity_Score', 'Preventive_Behavior_Index',\n",
      "       'Alcohol_Smoking_Interaction', 'BMI_Physical_Inactivity',\n",
      "       'Housing_Chronic_Interaction', 'Preventive_Comorbidity_Interaction',\n",
      "       'Income_Employment', 'Age_General_Health', 'Race_Chronic_Condition',\n",
      "       'Sex_Preventive_Behavior'],\n",
      "      dtype='object')\n"
     ]
    }
   ],
   "source": [
    "print(df_test.columns)"
   ]
  },
  {
   "cell_type": "code",
   "execution_count": 47,
   "metadata": {},
   "outputs": [
    {
     "data": {
      "text/plain": [
       "(20915, 85)"
      ]
     },
     "execution_count": 47,
     "metadata": {},
     "output_type": "execute_result"
    }
   ],
   "source": [
    "df_test.shape"
   ]
  },
  {
   "cell_type": "markdown",
   "metadata": {},
   "source": [
    "## Feature Selection"
   ]
  },
  {
   "cell_type": "markdown",
   "metadata": {},
   "source": [
    "#### Threshold for Collinearity\n",
    "\n",
    "- **|r| > 0.8**: Indicates strong collinearity and potential redundancy between features. Features with such high correlation should be carefully reviewed and possibly removed or combined.\n",
    "- **|r| > 0.9**: Almost perfect collinearity, which is highly problematic and can significantly affect model performance, especially in linear models.\n",
    "\n",
    "#### Why Collinearity is a Concern\n",
    "\n",
    "##### **1. Multicollinearity in Linear Models**\n",
    "- In linear models (e.g., linear regression), high collinearity can lead to unstable coefficients, making the model sensitive to small changes in data.\n",
    "\n",
    "##### **2. Redundancy in Features**\n",
    "- Highly correlated features provide overlapping information, which increases computational costs without adding significant predictive power.\n",
    "\n",
    "##### **3. Model Overfitting**\n",
    "- Including multiple collinear features may lead to overfitting, reducing the model’s generalization capability.\n"
   ]
  },
  {
   "cell_type": "code",
   "execution_count": 48,
   "metadata": {},
   "outputs": [],
   "source": [
    "# Calculate the correlation matrix for all numerical features in the DataFrame.\n",
    "# The correlation matrix provides pairwise correlation coefficients, indicating the strength and direction of the relationships between features.\n",
    "# This is useful for identifying highly correlated features, which may indicate redundancy or multicollinearity.\n",
    "correlation_matrix = df.corr()"
   ]
  },
  {
   "cell_type": "code",
   "execution_count": 49,
   "metadata": {},
   "outputs": [
    {
     "name": "stdout",
     "output_type": "stream",
     "text": [
      "                                         Age  Education_Level  Income_Level  \\\n",
      "Age                                 1.000000         0.008154     -0.030120   \n",
      "Education_Level                     0.008154         1.000000      0.235755   \n",
      "Income_Level                       -0.030120         0.235755      1.000000   \n",
      "Marital_Status                     -0.333512        -0.119968     -0.159365   \n",
      "Employment_Status                   0.540928        -0.128083     -0.153822   \n",
      "...                                      ...              ...           ...   \n",
      "Preventive_Comorbidity_Interaction -0.805305        -0.018973      0.022417   \n",
      "Income_Employment                   0.447958        -0.013062      0.363556   \n",
      "Age_General_Health                  0.594951        -0.177134     -0.171793   \n",
      "Race_Chronic_Condition             -0.084230        -0.030239     -0.059590   \n",
      "Sex_Preventive_Behavior            -0.475931         0.020758     -0.022554   \n",
      "\n",
      "                                    Marital_Status  Employment_Status  \\\n",
      "Age                                      -0.333512           0.540928   \n",
      "Education_Level                          -0.119968          -0.128083   \n",
      "Income_Level                             -0.159365          -0.153822   \n",
      "Marital_Status                            1.000000          -0.049188   \n",
      "Employment_Status                        -0.049188           1.000000   \n",
      "...                                            ...                ...   \n",
      "Preventive_Comorbidity_Interaction        0.317778          -0.367068   \n",
      "Income_Employment                        -0.095021           0.785547   \n",
      "Age_General_Health                       -0.116662           0.457363   \n",
      "Race_Chronic_Condition                    0.109432          -0.020698   \n",
      "Sex_Preventive_Behavior                   0.167355          -0.187444   \n",
      "\n",
      "                                    Number_of_Children    Weight    Height  \\\n",
      "Age                                           0.406305 -0.067769 -0.084778   \n",
      "Education_Level                               0.005784 -0.018586 -0.101190   \n",
      "Income_Level                                 -0.040481 -0.017396 -0.037286   \n",
      "Marital_Status                                0.074208  0.023963  0.049382   \n",
      "Employment_Status                             0.293622 -0.022082 -0.034430   \n",
      "...                                                ...       ...       ...   \n",
      "Preventive_Comorbidity_Interaction           -0.363886  0.065681  0.087849   \n",
      "Income_Employment                             0.239349 -0.021592 -0.030063   \n",
      "Age_General_Health                            0.254623 -0.025713 -0.034978   \n",
      "Race_Chronic_Condition                       -0.056748  0.038860 -0.008542   \n",
      "Sex_Preventive_Behavior                      -0.297281  0.015032  0.033512   \n",
      "\n",
      "                                    Smoking_Status  Alcohol_Consumption  ...  \\\n",
      "Age                                      -0.042664             0.080984  ...   \n",
      "Education_Level                           0.195922            -0.128315  ...   \n",
      "Income_Level                              0.154823            -0.058720  ...   \n",
      "Marital_Status                           -0.034596             0.028384  ...   \n",
      "Employment_Status                        -0.059629             0.120316  ...   \n",
      "...                                            ...                  ...  ...   \n",
      "Preventive_Comorbidity_Interaction        0.055027            -0.050909  ...   \n",
      "Income_Employment                         0.022549             0.081417  ...   \n",
      "Age_General_Health                       -0.135872             0.135029  ...   \n",
      "Race_Chronic_Condition                    0.022911             0.049704  ...   \n",
      "Sex_Preventive_Behavior                   0.050058            -0.018966  ...   \n",
      "\n",
      "                                    Comorbidity_Score  \\\n",
      "Age                                         -0.227285   \n",
      "Education_Level                              0.074755   \n",
      "Income_Level                                 0.144551   \n",
      "Marital_Status                               0.032019   \n",
      "Employment_Status                           -0.250445   \n",
      "...                                               ...   \n",
      "Preventive_Comorbidity_Interaction           0.252412   \n",
      "Income_Employment                           -0.130872   \n",
      "Age_General_Health                          -0.366069   \n",
      "Race_Chronic_Condition                       0.034812   \n",
      "Sex_Preventive_Behavior                      0.068881   \n",
      "\n",
      "                                    Preventive_Behavior_Index  \\\n",
      "Age                                                 -0.806136   \n",
      "Education_Level                                     -0.021742   \n",
      "Income_Level                                         0.015397   \n",
      "Marital_Status                                       0.319527   \n",
      "Employment_Status                                   -0.363111   \n",
      "...                                                       ...   \n",
      "Preventive_Comorbidity_Interaction                   0.992933   \n",
      "Income_Employment                                   -0.288258   \n",
      "Age_General_Health                                  -0.464272   \n",
      "Race_Chronic_Condition                               0.063421   \n",
      "Sex_Preventive_Behavior                              0.607770   \n",
      "\n",
      "                                    Alcohol_Smoking_Interaction  \\\n",
      "Age                                                    0.039864   \n",
      "Education_Level                                        0.006773   \n",
      "Income_Level                                           0.042551   \n",
      "Marital_Status                                         0.005473   \n",
      "Employment_Status                                      0.058380   \n",
      "...                                                         ...   \n",
      "Preventive_Comorbidity_Interaction                    -0.006460   \n",
      "Income_Employment                                      0.077267   \n",
      "Age_General_Health                                     0.028222   \n",
      "Race_Chronic_Condition                                 0.055084   \n",
      "Sex_Preventive_Behavior                                0.012673   \n",
      "\n",
      "                                    BMI_Physical_Inactivity  \\\n",
      "Age                                                0.083248   \n",
      "Education_Level                                   -0.151477   \n",
      "Income_Level                                      -0.116321   \n",
      "Marital_Status                                    -0.015431   \n",
      "Employment_Status                                  0.072144   \n",
      "...                                                     ...   \n",
      "Preventive_Comorbidity_Interaction                -0.095868   \n",
      "Income_Employment                                  0.002594   \n",
      "Age_General_Health                                 0.247554   \n",
      "Race_Chronic_Condition                             0.022795   \n",
      "Sex_Preventive_Behavior                           -0.043586   \n",
      "\n",
      "                                    Housing_Chronic_Interaction  \\\n",
      "Age                                                   -0.371643   \n",
      "Education_Level                                       -0.193311   \n",
      "Income_Level                                          -0.198159   \n",
      "Marital_Status                                         0.402925   \n",
      "Employment_Status                                     -0.073794   \n",
      "...                                                         ...   \n",
      "Preventive_Comorbidity_Interaction                     0.329650   \n",
      "Income_Employment                                     -0.137685   \n",
      "Age_General_Health                                    -0.098930   \n",
      "Race_Chronic_Condition                                 0.134819   \n",
      "Sex_Preventive_Behavior                                0.196549   \n",
      "\n",
      "                                    Preventive_Comorbidity_Interaction  \\\n",
      "Age                                                          -0.805305   \n",
      "Education_Level                                              -0.018973   \n",
      "Income_Level                                                  0.022417   \n",
      "Marital_Status                                                0.317778   \n",
      "Employment_Status                                            -0.367068   \n",
      "...                                                                ...   \n",
      "Preventive_Comorbidity_Interaction                            1.000000   \n",
      "Income_Employment                                            -0.288758   \n",
      "Age_General_Health                                           -0.469990   \n",
      "Race_Chronic_Condition                                        0.066250   \n",
      "Sex_Preventive_Behavior                                       0.591641   \n",
      "\n",
      "                                    Income_Employment  Age_General_Health  \\\n",
      "Age                                          0.447958            0.594951   \n",
      "Education_Level                             -0.013062           -0.177134   \n",
      "Income_Level                                 0.363556           -0.171793   \n",
      "Marital_Status                              -0.095021           -0.116662   \n",
      "Employment_Status                            0.785547            0.457363   \n",
      "...                                               ...                 ...   \n",
      "Preventive_Comorbidity_Interaction          -0.288758           -0.469990   \n",
      "Income_Employment                            1.000000            0.297341   \n",
      "Age_General_Health                           0.297341            1.000000   \n",
      "Race_Chronic_Condition                      -0.046400           -0.000539   \n",
      "Sex_Preventive_Behavior                     -0.152326           -0.269897   \n",
      "\n",
      "                                    Race_Chronic_Condition  \\\n",
      "Age                                              -0.084230   \n",
      "Education_Level                                  -0.030239   \n",
      "Income_Level                                     -0.059590   \n",
      "Marital_Status                                    0.109432   \n",
      "Employment_Status                                -0.020698   \n",
      "...                                                    ...   \n",
      "Preventive_Comorbidity_Interaction                0.066250   \n",
      "Income_Employment                                -0.046400   \n",
      "Age_General_Health                               -0.000539   \n",
      "Race_Chronic_Condition                            1.000000   \n",
      "Sex_Preventive_Behavior                           0.050950   \n",
      "\n",
      "                                    Sex_Preventive_Behavior  \n",
      "Age                                               -0.475931  \n",
      "Education_Level                                    0.020758  \n",
      "Income_Level                                      -0.022554  \n",
      "Marital_Status                                     0.167355  \n",
      "Employment_Status                                 -0.187444  \n",
      "...                                                     ...  \n",
      "Preventive_Comorbidity_Interaction                 0.591641  \n",
      "Income_Employment                                 -0.152326  \n",
      "Age_General_Health                                -0.269897  \n",
      "Race_Chronic_Condition                             0.050950  \n",
      "Sex_Preventive_Behavior                            1.000000  \n",
      "\n",
      "[85 rows x 85 columns]\n"
     ]
    }
   ],
   "source": [
    "# Print the computed correlation matrix to visually inspect the relationships between features.\n",
    "# High positive or negative correlations (close to 1 or -1) can guide feature selection or modification.\n",
    "print(correlation_matrix)"
   ]
  },
  {
   "cell_type": "markdown",
   "metadata": {},
   "source": [
    "#### Adjusting Correlation Threshold in the Context of Health Insurance\n",
    "\n",
    "In the life and health insurance industry, the accuracy and reliability of predictive models are crucial for making informed decisions that impact costs and member health outcomes. Given this context:\n",
    "- A **stricter correlation threshold** (e.g., |r| > 0.7 or even |r| > 0.6) is recommended to mitigate overfitting and improve generalization.\n",
    "- Lowering the threshold helps reduce redundancy in features, ensuring the model focuses on distinct, meaningful relationships.\n",
    "\n",
    "This adjustment aligns with best practices for creating interpretable, robust models in the insurance domain, where reliability and fairness are paramount."
   ]
  },
  {
   "cell_type": "code",
   "execution_count": 50,
   "metadata": {},
   "outputs": [
    {
     "name": "stdout",
     "output_type": "stream",
     "text": [
      "Highly Correlated Feature Pairs:\n",
      "('Age', 'Colonoscopy_Status'): 0.80\n",
      "('Age', 'Preventive_Behavior_Index'): 0.81\n",
      "('Age', 'Preventive_Comorbidity_Interaction'): 0.81\n",
      "('Employment_Status', 'Income_Employment'): 0.79\n",
      "('Alcohol_Consumption', 'Alcohol_Smoking_Interaction'): 0.77\n",
      "('Exercise_Status', 'Total_Physical_Inactivity'): 0.99\n",
      "('Exercise_Status', 'BMI_Physical_Inactivity'): 0.74\n",
      "('General_Health', 'Age_General_Health'): 0.82\n",
      "('BMI_Category', 'Health_Risk_index'): 0.90\n",
      "('BMI_Category', 'BMI_Physical_Inactivity'): 0.69\n",
      "('Arthritis_Status', 'Comorbidity_Score'): 0.61\n",
      "('Total_Physical_Inactivity', 'BMI_Physical_Inactivity'): 0.73\n",
      "('Colonoscopy_Status', 'Preventive_Behavior_Index'): 1.00\n",
      "('Colonoscopy_Status', 'Preventive_Comorbidity_Interaction'): 0.99\n",
      "('Colonoscopy_Status', 'Sex_Preventive_Behavior'): 0.61\n",
      "('Housing_Status_2.0', 'Housing_Chronic_Interaction'): 0.88\n",
      "('Mammogram_Status_2.0', 'Sex_Preventive_Behavior'): 0.71\n",
      "('Mammogram_Status_99.0', 'Sex_2'): 1.00\n",
      "('Race_2', 'Race_Chronic_Condition'): 0.78\n",
      "('Health_Risk_index', 'BMI_Physical_Inactivity'): 0.87\n",
      "('Preventive_Behavior_Index', 'Preventive_Comorbidity_Interaction'): 0.99\n",
      "('Preventive_Behavior_Index', 'Sex_Preventive_Behavior'): 0.61\n"
     ]
    }
   ],
   "source": [
    "# Set a threshold for high correlation\n",
    "threshold = 0.60\n",
    "\n",
    "# Compute the correlation matrix\n",
    "correlation_matrix = df.corr().abs()  # Take the absolute value of correlations\n",
    "\n",
    "# Create a mask to filter upper triangle of the matrix (including diagonal)\n",
    "mask = np.triu(np.ones(correlation_matrix.shape), k=1).astype(bool)\n",
    "\n",
    "# Filter correlations above the threshold\n",
    "high_corr = correlation_matrix.where(mask).stack()\n",
    "\n",
    "# Filter only those that exceed the threshold\n",
    "high_corr_dict = high_corr[high_corr > threshold].to_dict()\n",
    "\n",
    "# Print the dictionary\n",
    "print(\"Highly Correlated Feature Pairs:\")\n",
    "for key, value in high_corr_dict.items():\n",
    "    print(f\"{key}: {value:.2f}\")\n"
   ]
  },
  {
   "cell_type": "markdown",
   "metadata": {},
   "source": [
    "#### List of Columns to Drop\n",
    "\n",
    "Based on the high correlation analysis, the following columns have been dropped to address multicollinearity and redundancy:\n",
    "\n",
    "1. **`Colonoscopy_Status`**: Perfectly correlated with `Preventive_Behavior_Index` and redundant.\n",
    "2. **`Preventive_Behavior_Index`** and **`Preventive_Comorbidity_Interaction`**: Highly correlated and redundant with `Colonoscopy_Status`.\n",
    "3. **`Age_General_Health`**: Strong correlation with `Age` and `General_Health`.\n",
    "4. **`Exercise_Status`**: Redundant due to its high correlation with `Total_Physical_Inactivity`.\n",
    "5. **`BMI_Category`** and **`BMI_Physical_Inactivity`**: Highly correlated with `Health_Risk_index`.\n",
    "6. **`Housing_Status_2.0`**: Redundant with `Housing_Chronic_Interaction`.\n",
    "7. **`Mammogram_Status_99.0`**: Perfectly correlated with `Sex_2`.\n",
    "8. **`Alcohol_Smoking_Interaction`**: High correlation with `Alcohol_Consumption`.\n",
    "9. **`Health_Risk_index`**: Redundant due to its high correlation with `BMI_Category`.\n",
    "10. **`Race_Chronic_Condition`**: Highly correlated with `Race_2`.\n",
    "\n",
    "This step ensures that our dataset retains only unique, non-redundant features, improving model efficiency and interpretability."
   ]
  },
  {
   "cell_type": "code",
   "execution_count": 51,
   "metadata": {},
   "outputs": [],
   "source": [
    "columns_to_drop = [\n",
    "    'Colonoscopy_Status', 'Preventive_Behavior_Index', \n",
    "    'Preventive_Comorbidity_Interaction', 'Age_General_Health',\n",
    "    'Exercise_Status', 'BMI_Category', 'Housing_Status_2.0', \n",
    "    'Mammogram_Status_99.0', 'BMI_Physical_Inactivity', \n",
    "    'Alcohol_Smoking_Interaction', 'Health_Risk_index', \n",
    "    'Race_Chronic_Condition'\n",
    "]\n",
    "\n",
    "df = df.drop(columns=columns_to_drop)"
   ]
  },
  {
   "cell_type": "code",
   "execution_count": 52,
   "metadata": {},
   "outputs": [
    {
     "data": {
      "text/plain": [
       "(227525, 73)"
      ]
     },
     "execution_count": 52,
     "metadata": {},
     "output_type": "execute_result"
    }
   ],
   "source": [
    "df.shape"
   ]
  },
  {
   "cell_type": "code",
   "execution_count": 53,
   "metadata": {},
   "outputs": [],
   "source": [
    "df_test = df_test.drop(columns=columns_to_drop)"
   ]
  },
  {
   "cell_type": "code",
   "execution_count": 54,
   "metadata": {},
   "outputs": [
    {
     "data": {
      "text/plain": [
       "(20915, 73)"
      ]
     },
     "execution_count": 54,
     "metadata": {},
     "output_type": "execute_result"
    }
   ],
   "source": [
    "df_test.shape"
   ]
  },
  {
   "cell_type": "code",
   "execution_count": null,
   "metadata": {},
   "outputs": [
    {
     "name": "stdout",
     "output_type": "stream",
     "text": [
      "All column names in df_test match those in df!\n"
     ]
    }
   ],
   "source": [
    "# Check if all columns in df_test are in df\n",
    "test_columns = set(df_test.columns)\n",
    "train_columns = set(df.columns)\n",
    "\n",
    "# Find columns in df_test that are not in df\n",
    "extra_columns_in_test = test_columns - train_columns\n",
    "\n",
    "# Find columns in df that are not in df_test\n",
    "missing_columns_in_test = train_columns - test_columns\n",
    "\n",
    "# Print the results\n",
    "if not extra_columns_in_test and not missing_columns_in_test:\n",
    "    print(\"All column names in df_test match those in df!\")\n",
    "else:\n",
    "    if extra_columns_in_test:\n",
    "        print(f\"Columns in df_test but not in df: {extra_columns_in_test}\")\n",
    "    if missing_columns_in_test:\n",
    "        print(f\"Columns in df but not in df_test: {missing_columns_in_test}\")"
   ]
  },
  {
   "cell_type": "markdown",
   "metadata": {},
   "source": [
    "### Exporting the Feature Engineering Data Set\n",
    "\n",
    "The final step in this notebook saves the cleaned and preprocessed dataset to a new CSV file named `alexis_train.csv`. This file will be used in subsequent steps for training our model"
   ]
  },
  {
   "cell_type": "code",
   "execution_count": 55,
   "metadata": {},
   "outputs": [
    {
     "name": "stdout",
     "output_type": "stream",
     "text": [
      "The file 'alexis_train.csv' has been created!\n"
     ]
    }
   ],
   "source": [
    "df.to_csv(\"alexis_train.csv\", index=False)\n",
    "\n",
    "print(\"The file 'alexis_train.csv' has been created!\")"
   ]
  },
  {
   "cell_type": "markdown",
   "metadata": {},
   "source": [
    "### Exporting the Test Data to csv"
   ]
  },
  {
   "cell_type": "code",
   "execution_count": 56,
   "metadata": {},
   "outputs": [
    {
     "name": "stdout",
     "output_type": "stream",
     "text": [
      "The file 'Final_test.csv' has been updated!\n"
     ]
    }
   ],
   "source": [
    "df_test.to_csv(\"Final_test.csv\", index=False)\n",
    "\n",
    "# Confirm that the file has been successfully created\n",
    "print(\"The file 'Final_test.csv' has been updated!\")"
   ]
  }
 ],
 "metadata": {
  "kernelspec": {
   "display_name": "project_Xtillion",
   "language": "python",
   "name": "python3"
  },
  "language_info": {
   "codemirror_mode": {
    "name": "ipython",
    "version": 3
   },
   "file_extension": ".py",
   "mimetype": "text/x-python",
   "name": "python",
   "nbconvert_exporter": "python",
   "pygments_lexer": "ipython3",
   "version": "3.11.9"
  }
 },
 "nbformat": 4,
 "nbformat_minor": 2
}
